{
  "nbformat": 4,
  "nbformat_minor": 0,
  "metadata": {
    "colab": {
      "provenance": []
    },
    "kernelspec": {
      "name": "python3",
      "display_name": "Python 3"
    },
    "language_info": {
      "name": "python"
    }
  },
  "cells": [
    {
      "cell_type": "code",
      "source": [
        "from google.colab import drive\n",
        "drive.mount('/content/drive')"
      ],
      "metadata": {
        "colab": {
          "base_uri": "https://localhost:8080/"
        },
        "id": "GfdG-KyIyd-J",
        "outputId": "997c918a-5335-40f8-8d95-dbcfd736a555"
      },
      "execution_count": 1,
      "outputs": [
        {
          "output_type": "stream",
          "name": "stdout",
          "text": [
            "Drive already mounted at /content/drive; to attempt to forcibly remount, call drive.mount(\"/content/drive\", force_remount=True).\n"
          ]
        }
      ]
    },
    {
      "cell_type": "code",
      "source": [
        "import os\n",
        "import nltk\n",
        "import re\n",
        "from nltk.corpus import stopwords\n",
        "from nltk.tokenize import word_tokenize\n",
        "from sklearn.feature_extraction.text import TfidfVectorizer\n",
        "import pickle  # Optional, to save the feature vectors if needed\n",
        "import numpy as np\n",
        "from sklearn.metrics.pairwise import cosine_similarity\n",
        "from sklearn.model_selection import train_test_split\n",
        "from sklearn.ensemble import RandomForestClassifier\n",
        "from sklearn.metrics import accuracy_score, classification_report, confusion_matrix\n",
        "from sklearn.feature_extraction.text import TfidfVectorizer\n",
        "from sklearn.metrics.pairwise import cosine_similarity\n"
      ],
      "metadata": {
        "id": "gHRTrfqPli72"
      },
      "execution_count": 2,
      "outputs": []
    },
    {
      "cell_type": "code",
      "source": [
        "# Install pdfplumber\n",
        "!pip install pdfplumber\n",
        "\n",
        "import pdfplumber\n",
        "import os\n",
        "\n",
        "def extract_text_pdfplumber(pdf_path):\n",
        "    try:\n",
        "        text = \"\"\n",
        "        with pdfplumber.open(pdf_path) as pdf:\n",
        "            for page in pdf.pages:\n",
        "                text += page.extract_text() + \"\\n\"\n",
        "        return text\n",
        "    except Exception as e:\n",
        "        print(f\"Error reading {pdf_path}: {e}\")\n",
        "        return None\n",
        "\n",
        "# Specify directory with PDF files\n",
        "pdf_directory = '/content/drive/MyDrive/Ego/Resumes'\n",
        "text_output_directory = '/content/drive/MyDrive/Ego/TextFiles_pdfplumber'\n",
        "os.makedirs(text_output_directory, exist_ok=True)\n",
        "\n",
        "# Extract text from each PDF and save it to a text file\n",
        "for pdf_file in os.listdir(pdf_directory):\n",
        "    if pdf_file.endswith('.pdf'):\n",
        "        pdf_path = os.path.join(pdf_directory, pdf_file)\n",
        "        text = extract_text_pdfplumber(pdf_path)\n",
        "        if text:\n",
        "            text_file_path = os.path.join(text_output_directory, pdf_file.replace('.pdf', '.txt'))\n",
        "            with open(text_file_path, 'w', encoding='utf-8') as f:\n",
        "                f.write(text)\n",
        "            print(f\"Text extracted and saved for {pdf_file}\")\n"
      ],
      "metadata": {
        "colab": {
          "base_uri": "https://localhost:8080/"
        },
        "id": "mcUO0Nkaz5Eq",
        "outputId": "0aefdd8d-7dad-414c-df2b-21cd23e75b86"
      },
      "execution_count": 3,
      "outputs": [
        {
          "output_type": "stream",
          "name": "stdout",
          "text": [
            "Collecting pdfplumber\n",
            "  Downloading pdfplumber-0.11.4-py3-none-any.whl.metadata (41 kB)\n",
            "\u001b[?25l     \u001b[90m━━━━━━━━━━━━━━━━━━━━━━━━━━━━━━━━━━━━━━━━\u001b[0m \u001b[32m0.0/42.0 kB\u001b[0m \u001b[31m?\u001b[0m eta \u001b[36m-:--:--\u001b[0m\r\u001b[2K     \u001b[90m━━━━━━━━━━━━━━━━━━━━━━━━━━━━━━━━━━━━━━━━\u001b[0m \u001b[32m42.0/42.0 kB\u001b[0m \u001b[31m1.7 MB/s\u001b[0m eta \u001b[36m0:00:00\u001b[0m\n",
            "\u001b[?25hCollecting pdfminer.six==20231228 (from pdfplumber)\n",
            "  Downloading pdfminer.six-20231228-py3-none-any.whl.metadata (4.2 kB)\n",
            "Requirement already satisfied: Pillow>=9.1 in /usr/local/lib/python3.10/dist-packages (from pdfplumber) (11.0.0)\n",
            "Collecting pypdfium2>=4.18.0 (from pdfplumber)\n",
            "  Downloading pypdfium2-4.30.0-py3-none-manylinux_2_17_x86_64.manylinux2014_x86_64.whl.metadata (48 kB)\n",
            "\u001b[2K     \u001b[90m━━━━━━━━━━━━━━━━━━━━━━━━━━━━━━━━━━━━━━━━\u001b[0m \u001b[32m48.5/48.5 kB\u001b[0m \u001b[31m1.3 MB/s\u001b[0m eta \u001b[36m0:00:00\u001b[0m\n",
            "\u001b[?25hRequirement already satisfied: charset-normalizer>=2.0.0 in /usr/local/lib/python3.10/dist-packages (from pdfminer.six==20231228->pdfplumber) (3.4.0)\n",
            "Requirement already satisfied: cryptography>=36.0.0 in /usr/local/lib/python3.10/dist-packages (from pdfminer.six==20231228->pdfplumber) (43.0.3)\n",
            "Requirement already satisfied: cffi>=1.12 in /usr/local/lib/python3.10/dist-packages (from cryptography>=36.0.0->pdfminer.six==20231228->pdfplumber) (1.17.1)\n",
            "Requirement already satisfied: pycparser in /usr/local/lib/python3.10/dist-packages (from cffi>=1.12->cryptography>=36.0.0->pdfminer.six==20231228->pdfplumber) (2.22)\n",
            "Downloading pdfplumber-0.11.4-py3-none-any.whl (59 kB)\n",
            "\u001b[2K   \u001b[90m━━━━━━━━━━━━━━━━━━━━━━━━━━━━━━━━━━━━━━━━\u001b[0m \u001b[32m59.2/59.2 kB\u001b[0m \u001b[31m2.7 MB/s\u001b[0m eta \u001b[36m0:00:00\u001b[0m\n",
            "\u001b[?25hDownloading pdfminer.six-20231228-py3-none-any.whl (5.6 MB)\n",
            "\u001b[2K   \u001b[90m━━━━━━━━━━━━━━━━━━━━━━━━━━━━━━━━━━━━━━━━\u001b[0m \u001b[32m5.6/5.6 MB\u001b[0m \u001b[31m16.2 MB/s\u001b[0m eta \u001b[36m0:00:00\u001b[0m\n",
            "\u001b[?25hDownloading pypdfium2-4.30.0-py3-none-manylinux_2_17_x86_64.manylinux2014_x86_64.whl (2.8 MB)\n",
            "\u001b[2K   \u001b[90m━━━━━━━━━━━━━━━━━━━━━━━━━━━━━━━━━━━━━━━━\u001b[0m \u001b[32m2.8/2.8 MB\u001b[0m \u001b[31m32.0 MB/s\u001b[0m eta \u001b[36m0:00:00\u001b[0m\n",
            "\u001b[?25hInstalling collected packages: pypdfium2, pdfminer.six, pdfplumber\n",
            "Successfully installed pdfminer.six-20231228 pdfplumber-0.11.4 pypdfium2-4.30.0\n",
            "Text extracted and saved for Resume_4.pdf\n",
            "Text extracted and saved for Resume_9.pdf\n",
            "Text extracted and saved for Resume_7.pdf\n",
            "Text extracted and saved for Resume_3.pdf\n",
            "Text extracted and saved for Resume_11.pdf\n",
            "Text extracted and saved for Resume_1.pdf\n",
            "Text extracted and saved for Resume_2.pdf\n",
            "Text extracted and saved for Resume_8.pdf\n",
            "Text extracted and saved for Resume_13.pdf\n",
            "Text extracted and saved for Resume_12.pdf\n",
            "Text extracted and saved for Resume_10.pdf\n",
            "Text extracted and saved for Resume_14.pdf\n",
            "Text extracted and saved for Resume_6.pdf\n",
            "Text extracted and saved for Resume_5.pdf\n",
            "Text extracted and saved for updated_resume.pdf\n"
          ]
        }
      ]
    },
    {
      "cell_type": "code",
      "source": [
        "preprocessed_directory = '/content/drive/MyDrive/Ego/Preprocess_pdfplumber'\n",
        "os.makedirs(text_output_directory, exist_ok=True)"
      ],
      "metadata": {
        "id": "eo3cHaFN0nka"
      },
      "execution_count": 4,
      "outputs": []
    },
    {
      "cell_type": "code",
      "source": [
        "# Download stopwords\n",
        "nltk.download('stopwords')\n",
        "nltk.download('punkt')\n",
        "nltk.download('punkt_tab')"
      ],
      "metadata": {
        "colab": {
          "base_uri": "https://localhost:8080/"
        },
        "id": "ly-CyDZFlqZE",
        "outputId": "8021630a-27f4-45f9-87ef-70d238e5abaa"
      },
      "execution_count": 5,
      "outputs": [
        {
          "output_type": "stream",
          "name": "stderr",
          "text": [
            "[nltk_data] Downloading package stopwords to /root/nltk_data...\n",
            "[nltk_data]   Unzipping corpora/stopwords.zip.\n",
            "[nltk_data] Downloading package punkt to /root/nltk_data...\n",
            "[nltk_data]   Unzipping tokenizers/punkt.zip.\n",
            "[nltk_data] Downloading package punkt_tab to /root/nltk_data...\n",
            "[nltk_data]   Unzipping tokenizers/punkt_tab.zip.\n"
          ]
        },
        {
          "output_type": "execute_result",
          "data": {
            "text/plain": [
              "True"
            ]
          },
          "metadata": {},
          "execution_count": 5
        }
      ]
    },
    {
      "cell_type": "code",
      "source": [
        "# Preprocessing function to clean and tokenize text\n",
        "def preprocess_text(text):\n",
        "    # Convert text to lowercase\n",
        "    text = text.lower()\n",
        "    # Remove special characters and numbers\n",
        "    text = re.sub(r'[^a-zA-Z\\s]', '', text)\n",
        "    # Tokenize text\n",
        "    words = word_tokenize(text)\n",
        "    # Remove stopwords\n",
        "    stop_words = set(stopwords.words('english'))\n",
        "    words = [word for word in words if word not in stop_words]\n",
        "    # Join words back into a single string\n",
        "    return ' '.join(words)"
      ],
      "metadata": {
        "id": "qOhjiA0olrBF"
      },
      "execution_count": 6,
      "outputs": []
    },
    {
      "cell_type": "code",
      "source": [
        "# Iterate through PDF files in the specified directory\n",
        "for pdf_file in os.listdir(pdf_directory):\n",
        "    if pdf_file.endswith('.pdf'):\n",
        "        pdf_path = os.path.join(pdf_directory, pdf_file)\n",
        "        text = extract_text_pdfplumber(pdf_path)\n",
        "\n",
        "        # If text extraction was successful, preprocess it and save\n",
        "        if text:\n",
        "            # Save original extracted text\n",
        "            output_file = os.path.join(text_output_directory, pdf_file.replace('.pdf', '.txt'))\n",
        "            with open(output_file, 'w', encoding='utf-8') as f:\n",
        "                f.write(text)\n",
        "\n",
        "            # Preprocess and save preprocessed text\n",
        "            preprocessed_text = preprocess_text(text)\n",
        "            preprocessed_file = os.path.join(preprocessed_directory, pdf_file.replace('.pdf', '_preprocessed.txt'))\n",
        "\n",
        "            # Create the directory if it doesn't exist\n",
        "            os.makedirs(os.path.dirname(preprocessed_file), exist_ok=True)\n",
        "\n",
        "            with open(preprocessed_file, 'w', encoding='utf-8') as f:\n",
        "                f.write(preprocessed_text)\n",
        "\n",
        "            print(f\"Processed and saved text from {pdf_file}\")"
      ],
      "metadata": {
        "colab": {
          "base_uri": "https://localhost:8080/"
        },
        "id": "_J-Wgt3YlvMG",
        "outputId": "dc35f50f-5061-4a4e-dcb6-8f80e6870359"
      },
      "execution_count": 7,
      "outputs": [
        {
          "output_type": "stream",
          "name": "stdout",
          "text": [
            "Processed and saved text from Resume_4.pdf\n",
            "Processed and saved text from Resume_9.pdf\n",
            "Processed and saved text from Resume_7.pdf\n",
            "Processed and saved text from Resume_3.pdf\n",
            "Processed and saved text from Resume_11.pdf\n",
            "Processed and saved text from Resume_1.pdf\n",
            "Processed and saved text from Resume_2.pdf\n",
            "Processed and saved text from Resume_8.pdf\n",
            "Processed and saved text from Resume_13.pdf\n",
            "Processed and saved text from Resume_12.pdf\n",
            "Processed and saved text from Resume_10.pdf\n",
            "Processed and saved text from Resume_14.pdf\n",
            "Processed and saved text from Resume_6.pdf\n",
            "Processed and saved text from Resume_5.pdf\n",
            "Processed and saved text from updated_resume.pdf\n"
          ]
        }
      ]
    },
    {
      "cell_type": "code",
      "source": [
        "\n",
        "# Read preprocessed text files and store their content in a list\n",
        "documents = []\n",
        "filenames = []\n",
        "\n",
        "for file in os.listdir(preprocessed_directory):\n",
        "    if file.endswith('_preprocessed.txt'):\n",
        "        file_path = os.path.join(preprocessed_directory, file)\n",
        "        with open(file_path, 'r', encoding='utf-8') as f:\n",
        "            text = f.read()\n",
        "            documents.append(text)\n",
        "            filenames.append(file)  # Optional: Keep track of file names\n"
      ],
      "metadata": {
        "id": "YA0CmcA0lyLD"
      },
      "execution_count": 8,
      "outputs": []
    },
    {
      "cell_type": "code",
      "source": [
        "# Initialize TF-IDF Vectorizer\n",
        "tfidf_vectorizer = TfidfVectorizer(max_features=5000, ngram_range=(1, 2))  # Including bigrams\n",
        "  # Adjust max_features as needed\n",
        "\n",
        "# Transform documents into TF-IDF feature vectors\n",
        "tfidf_matrix = tfidf_vectorizer.fit_transform(documents)\n",
        "\n",
        "# Convert the TF-IDF matrix to an array for easier handling\n",
        "feature_vectors = tfidf_matrix.toarray()\n",
        "\n",
        "# Optional: Save feature vectors and filenames for future use\n",
        "with open('/content/drive/MyDrive/Ego/Vectorize', 'wb') as f:\n",
        "    pickle.dump((filenames, feature_vectors), f)\n",
        "\n",
        "with open('/content/drive/MyDrive/Ego/Vectorize', 'rb') as f:\n",
        "  filenames, feature_vectors = pickle.load(f)\n",
        "\n",
        "print(\"Feature vectors created successfully!\")"
      ],
      "metadata": {
        "colab": {
          "base_uri": "https://localhost:8080/"
        },
        "id": "y-54Zmh-l0YK",
        "outputId": "9253188f-b286-47df-c236-9f61583e379d"
      },
      "execution_count": 9,
      "outputs": [
        {
          "output_type": "stream",
          "name": "stdout",
          "text": [
            "Feature vectors created successfully!\n"
          ]
        }
      ]
    },
    {
      "cell_type": "code",
      "source": [
        "print(\"Loaded feature vectors for documents:\", filenames)\n",
        "print(\"Shape of feature vectors matrix:\", feature_vectors.shape)"
      ],
      "metadata": {
        "colab": {
          "base_uri": "https://localhost:8080/"
        },
        "id": "AtAu6Ss1l2N9",
        "outputId": "3960530d-d8b4-497d-c0c5-2744b8193fe4"
      },
      "execution_count": 10,
      "outputs": [
        {
          "output_type": "stream",
          "name": "stdout",
          "text": [
            "Loaded feature vectors for documents: ['Resume_4_preprocessed.txt', 'Resume_9_preprocessed.txt', 'Resume_7_preprocessed.txt', 'Resume_3_preprocessed.txt', 'Resume_11_preprocessed.txt', 'Resume_1_preprocessed.txt', 'Resume_2_preprocessed.txt', 'Resume_8_preprocessed.txt', 'Resume_13_preprocessed.txt', 'Resume_10_preprocessed.txt', 'Resume_12_preprocessed.txt', 'Resume_14_preprocessed.txt', 'Resume_6_preprocessed.txt', 'Resume_5_preprocessed.txt', 'updated_resume_preprocessed.txt']\n",
            "Shape of feature vectors matrix: (15, 5000)\n"
          ]
        }
      ]
    },
    {
      "cell_type": "code",
      "source": [
        "import pandas as pd\n",
        "# Load ego-related keywords and their categories from the drive\n",
        "keywords_path = '/content/drive/MyDrive/Ego/Words_score_ego.csv'\n",
        "keywords_df = pd.read_csv(keywords_path)\n",
        "\n",
        "# Display the loaded keywords\n",
        "print(keywords_df.head())"
      ],
      "metadata": {
        "colab": {
          "base_uri": "https://localhost:8080/"
        },
        "id": "4cNX3QsVl43W",
        "outputId": "bb0ee934-f216-41cf-f586-f135db6d849b"
      },
      "execution_count": 11,
      "outputs": [
        {
          "output_type": "stream",
          "name": "stdout",
          "text": [
            "                                Keywordord Category\n",
            "0                             Accomplished     High\n",
            "1  Achieved all targets ahead of deadlines     High\n",
            "2       Achieved highest sales in the team     High\n",
            "3      Achieved project milestones on time     High\n",
            "4                                Assertive     High\n"
          ]
        }
      ]
    },
    {
      "cell_type": "code",
      "source": [
        "# Convert keywords into a single text document for each category\n",
        "keywords_text = keywords_df.groupby('Category')['Keywordord'].apply(lambda x: ' '.join(x)).to_dict()\n",
        "\n",
        "# Vectorize keywords by category using TF-IDF\n",
        "vectorizer = TfidfVectorizer()\n",
        "keywords_matrix = vectorizer.fit_transform(keywords_text.values())\n",
        "keywords_labels = list(keywords_text.keys())\n",
        "\n",
        "print(\"Keywords Feature Matrix Shape:\", keywords_matrix.shape)\n"
      ],
      "metadata": {
        "colab": {
          "base_uri": "https://localhost:8080/"
        },
        "id": "u5P1iL6lmCVJ",
        "outputId": "eb2011d7-3bcf-42ce-a68d-be3ae47f50a4"
      },
      "execution_count": 12,
      "outputs": [
        {
          "output_type": "stream",
          "name": "stdout",
          "text": [
            "Keywords Feature Matrix Shape: (3, 242)\n"
          ]
        }
      ]
    },
    {
      "cell_type": "code",
      "source": [
        "# Path to the folder where resume text files are stored\n",
        "resume_folder_path = '/content/drive/MyDrive/Ego/TextFiles_pdfplumber'\n",
        "\n",
        "# List all text files in the folder\n",
        "resume_files = [f for f in os.listdir(resume_folder_path) if f.endswith('.txt')]\n",
        "\n",
        "# Read the contents of each resume file and store them in a list\n",
        "resume_texts = []\n",
        "\n",
        "for file_name in resume_files:\n",
        "    file_path = os.path.join(resume_folder_path, file_name)\n",
        "    with open(file_path, 'r', encoding='utf-8') as file:\n",
        "        resume_texts.append(file.read())\n",
        "\n",
        "# Now, `resume_texts` contains the text of all resumes\n",
        "print(f\"Loaded {len(resume_texts)} resumes.\")\n"
      ],
      "metadata": {
        "colab": {
          "base_uri": "https://localhost:8080/"
        },
        "id": "TYOXcjMqmEvx",
        "outputId": "9feadee7-2b81-4598-f645-ea2ab350f2d8"
      },
      "execution_count": 13,
      "outputs": [
        {
          "output_type": "stream",
          "name": "stdout",
          "text": [
            "Loaded 15 resumes.\n"
          ]
        }
      ]
    },
    {
      "cell_type": "code",
      "source": [
        "from sklearn.feature_extraction.text import TfidfVectorizer\n",
        "\n",
        "# Combine both resume texts and keywords into one list for vectorization\n",
        "all_texts = resume_texts + list(keywords_text.values())  # All resume texts and keyword texts\n",
        "\n",
        "# Fit the TF-IDF vectorizer on both resume and keyword data\n",
        "vectorizer = TfidfVectorizer()\n",
        "combined_matrix = vectorizer.fit_transform(all_texts)\n",
        "\n",
        "# Separate the combined matrix back into resume_matrix and keywords_matrix\n",
        "resume_matrix = combined_matrix[:len(resume_texts), :]  # First part corresponds to resumes\n",
        "keywords_matrix = combined_matrix[len(resume_texts):, :]  # Remaining part corresponds to keywords\n"
      ],
      "metadata": {
        "id": "D0SPEBMD_XkH"
      },
      "execution_count": 14,
      "outputs": []
    },
    {
      "cell_type": "code",
      "source": [
        "from sklearn.preprocessing import normalize\n",
        "import pandas as pd\n",
        "from sklearn.metrics.pairwise import manhattan_distances\n",
        "\n",
        "# Normalize the resume and keyword matrices\n",
        "resume_matrix_normalized = normalize(resume_matrix, norm='l1')\n",
        "keywords_matrix_normalized = normalize(keywords_matrix, norm='l1')\n",
        "\n",
        "# Compute Manhattan Distance between normalized resumes and keywords\n",
        "manhattan_dist = manhattan_distances(resume_matrix_normalized, keywords_matrix_normalized)\n",
        "\n",
        "# Convert distances to DataFrame\n",
        "manhattan_df = pd.DataFrame(manhattan_dist, columns=keywords_labels)\n",
        "\n",
        "# Output the similarity scores\n",
        "print(manhattan_df)\n"
      ],
      "metadata": {
        "colab": {
          "base_uri": "https://localhost:8080/"
        },
        "id": "twcS4dEpjQpM",
        "outputId": "bb723599-6f5d-42db-cbff-b14cdb6e74f2"
      },
      "execution_count": 15,
      "outputs": [
        {
          "output_type": "stream",
          "name": "stdout",
          "text": [
            "        High       Low  Moderate\n",
            "0   1.854427  1.908642  1.859636\n",
            "1   1.897991  1.894101  1.874821\n",
            "2   1.858174  1.884438  1.862381\n",
            "3   1.878456  1.879590  1.852158\n",
            "4   1.870518  1.908881  1.873200\n",
            "5   1.822518  1.832182  1.847267\n",
            "6   1.885024  1.863753  1.865045\n",
            "7   1.805973  1.870472  1.813465\n",
            "8   1.965501  1.977223  1.962953\n",
            "9   1.904627  1.924704  1.907765\n",
            "10  1.856839  1.864300  1.842696\n",
            "11  1.847795  1.863958  1.871246\n",
            "12  1.911494  1.926888  1.857524\n",
            "13  1.890416  1.882240  1.840548\n",
            "14  1.858364  1.838985  1.855936\n"
          ]
        }
      ]
    },
    {
      "cell_type": "code",
      "source": [
        "import matplotlib.pyplot as plt\n",
        "\n",
        "# Plot similarity scores for each category\n",
        "manhattan_df[['High','Moderate', 'Low']].plot(kind='bar', figsize=(10, 6))\n",
        "plt.title('Similarity Scores for Each Category')\n",
        "plt.ylabel('euclidean_dist')\n",
        "plt.xlabel('Resume Index')\n",
        "plt.show()\n"
      ],
      "metadata": {
        "colab": {
          "base_uri": "https://localhost:8080/",
          "height": 568
        },
        "id": "OwfZbkgPjjQk",
        "outputId": "e23d609f-93a2-4bb5-e073-2f7fc982e7f9"
      },
      "execution_count": 16,
      "outputs": [
        {
          "output_type": "display_data",
          "data": {
            "text/plain": [
              "<Figure size 1000x600 with 1 Axes>"
            ],
            "image/png": "[encoded data removed]"
          },
          "metadata": {}
        }
      ]
    },
    {
      "cell_type": "code",
      "source": [
        "print(\"Resume Matrix shape:\", resume_matrix.shape)\n",
        "print(\"Keywords Matrix shape:\", keywords_matrix.shape)\n"
      ],
      "metadata": {
        "colab": {
          "base_uri": "https://localhost:8080/"
        },
        "id": "b1RmBa0NA9q0",
        "outputId": "8f17fd43-8da9-4d76-e691-b23c27ae75cd"
      },
      "execution_count": 17,
      "outputs": [
        {
          "output_type": "stream",
          "name": "stdout",
          "text": [
            "Resume Matrix shape: (15, 2344)\n",
            "Keywords Matrix shape: (3, 2344)\n"
          ]
        }
      ]
    },
    {
      "cell_type": "code",
      "source": [
        "print(\"Combined Matrix shape:\", combined_matrix.shape)\n"
      ],
      "metadata": {
        "colab": {
          "base_uri": "https://localhost:8080/"
        },
        "id": "F9zqcNFYBZiS",
        "outputId": "2e84bb3d-46b4-4f4e-e33e-234ca1ccbb73"
      },
      "execution_count": 18,
      "outputs": [
        {
          "output_type": "stream",
          "name": "stdout",
          "text": [
            "Combined Matrix shape: (18, 2344)\n"
          ]
        }
      ]
    },
    {
      "cell_type": "code",
      "source": [
        "#This True_labels for the small amount of resumes that can be manually labels\n",
        "# Define true labels for each resume\n",
        "# These labels should match the order of the resumes in `resume_texts`\n",
        "true_labels = ['Moderate', 'Moderate', 'Moderate', 'Moderate', 'Low', 'High', 'Moderate', 'Low', 'High', 'High', 'Moderate', 'Moderate', 'Moderate', 'Moderate', 'High']  # Replace with actual labels\n"
      ],
      "metadata": {
        "id": "vJ0NXyx8vm0-"
      },
      "execution_count": 19,
      "outputs": []
    },
    {
      "cell_type": "code",
      "source": [
        "import numpy as np\n",
        "import matplotlib.pyplot as plt\n",
        "\n",
        "# Compute Manhattan distances\n",
        "# manhattan_dist is a DataFrame where rows are resumes and columns are categories (High, Moderate, Low)\n",
        "manhattan_dist = pd.DataFrame(manhattan_distances(resume_matrix_normalized, keywords_matrix_normalized),\n",
        "                              columns=keywords_labels)\n",
        "\n",
        "# Analyze the Manhattan distances\n",
        "print(\"Summary of distances:\")\n",
        "print(manhattan_dist.describe())\n",
        "\n",
        "# Visualize distances for each category\n",
        "plt.figure(figsize=(12, 6))\n",
        "for category in keywords_labels:\n",
        "    plt.hist(manhattan_dist[category], bins=20, alpha=0.6, label=category)\n",
        "plt.xlabel(\"Distance\")\n",
        "plt.ylabel(\"Frequency\")\n",
        "plt.title(\"Distribution of Manhattan Distances by Category\")\n",
        "plt.legend()\n",
        "plt.show()\n",
        "\n",
        "# Define thresholds dynamically based on percentiles\n",
        "# For example: Use the 33rd percentile for Low, and 66th percentile for High\n",
        "low_threshold = np.percentile(manhattan_dist['High'], 33)   # Threshold for High to Medium\n",
        "medium_threshold = np.percentile(manhattan_dist['Moderate'], 66)  # Threshold for Medium to Low\n",
        "\n",
        "print(f\"Low Threshold (High Category): {low_threshold}\")\n",
        "print(f\"Medium Threshold (Moderate Category): {medium_threshold}\")\n",
        "\n",
        "# Function to label resumes based on thresholds\n",
        "def label_with_dynamic_threshold(row):\n",
        "    if row[\"High\"] <= low_threshold:\n",
        "        return \"High\"\n",
        "    elif row[\"Moderate\"] <= medium_threshold:\n",
        "        return \"Moderate\"\n",
        "    else:\n",
        "        return \"Low\"\n",
        "\n",
        "# Apply the labeling function to the Manhattan distance DataFrame\n",
        "manhattan_dist['Predicted_Label'] = manhattan_dist.apply(label_with_dynamic_threshold, axis=1)\n",
        "\n",
        "# Display the results\n",
        "print(\"Labeled DataFrame:\")\n",
        "print(manhattan_dist[['High', 'Moderate', 'Low', 'Predicted_Label']])\n",
        "\n",
        "# Save labeled results for further analysis\n",
        "manhattan_dist.to_csv('/content/drive/MyDrive/Ego/Labeled_Resumes.csv', index=False)\n",
        "print(\"Labeled resumes saved to Labeled_Resumes.csv.\")\n"
      ],
      "metadata": {
        "colab": {
          "base_uri": "https://localhost:8080/",
          "height": 1000
        },
        "id": "WXI1vyPS3y1Z",
        "outputId": "66a16170-4211-4ffe-fdde-55a6cbd236f2"
      },
      "execution_count": 20,
      "outputs": [
        {
          "output_type": "stream",
          "name": "stdout",
          "text": [
            "Summary of distances:\n",
            "            High        Low   Moderate\n",
            "count  15.000000  15.000000  15.000000\n",
            "mean    1.873874   1.888024   1.865776\n",
            "std     0.038593   0.037215   0.033829\n",
            "min     1.805973   1.832182   1.813465\n",
            "25%     1.855633   1.864129   1.849713\n",
            "50%     1.870518   1.882240   1.859636\n",
            "75%     1.894204   1.908762   1.872223\n",
            "max     1.965501   1.977223   1.962953\n"
          ]
        },
        {
          "output_type": "display_data",
          "data": {
            "text/plain": [
              "<Figure size 1200x600 with 1 Axes>"
            ],
            "image/png": "[encoded data removed]"
          },
          "metadata": {}
        },
        {
          "output_type": "stream",
          "name": "stdout",
          "text": [
            "Low Threshold (High Category): 1.8576666587999406\n",
            "Medium Threshold (Moderate Category): 1.866532794868742\n",
            "Labeled DataFrame:\n",
            "        High  Moderate       Low Predicted_Label\n",
            "0   1.854427  1.859636  1.908642            High\n",
            "1   1.897991  1.874821  1.894101             Low\n",
            "2   1.858174  1.862381  1.884438        Moderate\n",
            "3   1.878456  1.852158  1.879590        Moderate\n",
            "4   1.870518  1.873200  1.908881             Low\n",
            "5   1.822518  1.847267  1.832182            High\n",
            "6   1.885024  1.865045  1.863753        Moderate\n",
            "7   1.805973  1.813465  1.870472            High\n",
            "8   1.965501  1.962953  1.977223             Low\n",
            "9   1.904627  1.907765  1.924704             Low\n",
            "10  1.856839  1.842696  1.864300            High\n",
            "11  1.847795  1.871246  1.863958            High\n",
            "12  1.911494  1.857524  1.926888        Moderate\n",
            "13  1.890416  1.840548  1.882240        Moderate\n",
            "14  1.858364  1.855936  1.838985        Moderate\n",
            "Labeled resumes saved to Labeled_Resumes.csv.\n"
          ]
        }
      ]
    },
    {
      "cell_type": "code",
      "source": [
        "from sklearn.ensemble import RandomForestClassifier\n",
        "from sklearn.metrics import (\n",
        "    accuracy_score,\n",
        "    classification_report,\n",
        "    confusion_matrix,\n",
        "    ConfusionMatrixDisplay,\n",
        ")\n",
        "import matplotlib.pyplot as plt\n",
        "import pandas as pd\n",
        "from sklearn.model_selection import train_test_split\n",
        "\n",
        "# Check columns in the DataFrame to ensure it only has the expected feature columns\n",
        "print(\"Columns in manhattan_df:\", manhattan_df.columns)\n",
        "\n",
        "# Use the similarity scores as features\n",
        "X = manhattan_df  # Use the DataFrame directly if it only has the similarity score columns\n",
        "y = true_labels    # True labels for each resume as previously defined\n",
        "\n",
        "# Split the data into training and testing sets\n",
        "X_train, X_test, y_train, y_test = train_test_split(X, y, test_size=0.2, random_state=42)\n",
        "\n",
        "# Initialize and train the RandomForest classifier\n",
        "classifier = RandomForestClassifier(n_estimators=50, random_state=42)\n",
        "classifier.fit(X_train, y_train)\n",
        "\n",
        "# Predict labels for the testing data\n",
        "y_pred_test = classifier.predict(X_test)\n",
        "\n",
        "# Evaluate and display results for the testing data\n",
        "print(\"Testing Data Results:\")\n",
        "print(\"Accuracy:\", accuracy_score(y_test, y_pred_test))\n",
        "\n",
        "# Fixed target names for classification report and confusion matrix\n",
        "fixed_categories = [\"High\", \"Moderate\", \"Low\"]\n",
        "\n",
        "\n"
      ],
      "metadata": {
        "colab": {
          "base_uri": "https://localhost:8080/"
        },
        "id": "gxAwfVBqyUlQ",
        "outputId": "f92ef608-1091-4c74-bbab-c2af7b4f0a56"
      },
      "execution_count": 21,
      "outputs": [
        {
          "output_type": "stream",
          "name": "stdout",
          "text": [
            "Columns in manhattan_df: Index(['High', 'Low', 'Moderate'], dtype='object')\n",
            "Testing Data Results:\n",
            "Accuracy: 0.6666666666666666\n"
          ]
        }
      ]
    },
    {
      "cell_type": "code",
      "source": [
        "# Ensure classifier predictions include probabilities\n",
        "y_pred_all = classifier.predict(X)\n",
        "y_pred_probs = classifier.predict_proba(X)\n",
        "\n",
        "# Assign weights for High, Moderate, and Low\n",
        "weights = {'High': 3, 'Moderate': 2, 'Low': 1}\n",
        "\n",
        "# Calculate weighted scores for each resume\n",
        "overall_scores = []\n",
        "for probs in y_pred_probs:\n",
        "    weighted_score = sum(p * weights[label] for p, label in zip(probs, classifier.classes_))\n",
        "    normalized_score = (weighted_score / max(weights.values())) * 100  # Normalize to 100\n",
        "    overall_scores.append(normalized_score)\n",
        "\n",
        "# Map predicted labels to their corresponding overall scores\n",
        "predictions_df = pd.DataFrame({\n",
        "    'Resume': manhattan_df.index,\n",
        "    'Predicted Label': y_pred_all,\n",
        "    'Overall Score': [round(score, 2) for score in overall_scores]  # Round scores to 2 decimals\n",
        "})\n",
        "\n",
        "# Display the predictions\n",
        "print(\"\\nPredictions DataFrame:\")\n",
        "print(predictions_df)\n",
        "\n",
        "# Save predictions to a CSV file\n",
        "predictions_df.to_csv('/content/drive/MyDrive/Ego/Predictions_Scored.csv', index=False)\n",
        "print(\"Predictions saved to Predictions_Scored.csv.\")\n"
      ],
      "metadata": {
        "colab": {
          "base_uri": "https://localhost:8080/"
        },
        "id": "JRMX6hPMZ1su",
        "outputId": "b2f94155-752b-414e-ae63-2aaff35d3e0d"
      },
      "execution_count": 22,
      "outputs": [
        {
          "output_type": "stream",
          "name": "stdout",
          "text": [
            "\n",
            "Predictions DataFrame:\n",
            "    Resume Predicted Label  Overall Score\n",
            "0        0        Moderate          58.67\n",
            "1        1        Moderate          64.00\n",
            "2        2        Moderate          65.33\n",
            "3        3        Moderate          66.67\n",
            "4        4             Low          43.33\n",
            "5        5            High          86.67\n",
            "6        6        Moderate          66.67\n",
            "7        7             Low          46.67\n",
            "8        8            High          91.33\n",
            "9        9        Moderate          56.67\n",
            "10      10        Moderate          66.67\n",
            "11      11        Moderate          60.00\n",
            "12      12        Moderate          64.00\n",
            "13      13        Moderate          66.67\n",
            "14      14            High          91.33\n",
            "Predictions saved to Predictions_Scored.csv.\n"
          ]
        }
      ]
    },
    {
      "cell_type": "code",
      "source": [
        "from sklearn.metrics import confusion_matrix, ConfusionMatrixDisplay\n",
        "\n",
        "# Generate the confusion matrix using true labels and predicted labels\n",
        "conf_matrix = confusion_matrix(y, y_pred_all, labels=classifier.classes_)\n",
        "\n",
        "# Display the confusion matrix\n",
        "disp = ConfusionMatrixDisplay(confusion_matrix=conf_matrix, display_labels=classifier.classes_)\n",
        "disp.plot(cmap='Blues')\n",
        "plt.title('Confusion Matrix: True Labels vs. Predicted Labels')\n",
        "plt.show()\n",
        "\n",
        "# Print the confusion matrix as text (optional)\n",
        "print(\"\\nConfusion Matrix (as text):\")\n",
        "print(conf_matrix)\n"
      ],
      "metadata": {
        "colab": {
          "base_uri": "https://localhost:8080/",
          "height": 559
        },
        "id": "4-1qkbwzfQPK",
        "outputId": "150b78c6-da15-45f1-de59-9fa7e7d4abe5"
      },
      "execution_count": 23,
      "outputs": [
        {
          "output_type": "display_data",
          "data": {
            "text/plain": [
              "<Figure size 640x480 with 2 Axes>"
            ],
            "image/png": "[encoded data removed]"
          },
          "metadata": {}
        },
        {
          "output_type": "stream",
          "name": "stdout",
          "text": [
            "\n",
            "Confusion Matrix (as text):\n",
            "[[3 0 1]\n",
            " [0 2 0]\n",
            " [0 0 9]]\n"
          ]
        }
      ]
    },
    {
      "source": [
        "from sklearn.model_selection import GridSearchCV\n",
        "\n",
        "# Define parameter grid\n",
        "param_grid = {\n",
        "    'n_estimators': [10, 50, 100],\n",
        "    'max_depth': [None, 10, 20, 30],\n",
        "    'min_samples_split': [2, 5, 10]\n",
        "}\n",
        "\n",
        "# Initialize Grid Search\n",
        "grid_search = GridSearchCV(RandomForestClassifier(random_state=42), param_grid, cv=5)\n",
        "\n",
        "grid_search.fit(X_train, y_train)\n",
        "\n",
        "# Best parameters\n",
        "print(\"Best Parameters:\", grid_search.best_params_)\n",
        "\n",
        "# Use the best estimator from grid search for predictions\n",
        "best_classifier = grid_search.best_estimator_\n",
        "y_pred_best = best_classifier.predict(X_test)\n",
        "\n",
        "# Evaluate performance of the best model\n",
        "accuracy_best = accuracy_score(y_test, y_pred_best)\n",
        "print(\"Optimized Accuracy:\", accuracy_best)\n",
        "print(\"Optimized Classification Report:\")\n",
        "\n",
        "# Get unique class labels from training data\n",
        "unique_labels = sorted(set(y_train))\n",
        "\n",
        "# Filter out labels not present in y_test\n",
        "labels_in_test = [label for label in unique_labels if label in set(y_test)]\n",
        "\n",
        "# Use filtered labels in the classification_report\n",
        "print(classification_report(y_test, y_pred_best, target_names=labels_in_test))"
      ],
      "cell_type": "code",
      "metadata": {
        "colab": {
          "base_uri": "https://localhost:8080/"
        },
        "id": "TP_ynMZxGd8k",
        "outputId": "55ddc150-09d5-40b2-e3ae-dca6c18ad1fc"
      },
      "execution_count": 29,
      "outputs": [
        {
          "output_type": "stream",
          "name": "stderr",
          "text": [
            "/usr/local/lib/python3.10/dist-packages/sklearn/model_selection/_split.py:776: UserWarning: The least populated class in y has only 2 members, which is less than n_splits=5.\n",
            "  warnings.warn(\n"
          ]
        },
        {
          "output_type": "stream",
          "name": "stdout",
          "text": [
            "Best Parameters: {'max_depth': None, 'min_samples_split': 2, 'n_estimators': 50}\n",
            "Optimized Accuracy: 0.6666666666666666\n",
            "Optimized Classification Report:\n",
            "              precision    recall  f1-score   support\n",
            "\n",
            "        High       0.00      0.00      0.00         1\n",
            "    Moderate       0.67      1.00      0.80         2\n",
            "\n",
            "    accuracy                           0.67         3\n",
            "   macro avg       0.33      0.50      0.40         3\n",
            "weighted avg       0.44      0.67      0.53         3\n",
            "\n"
          ]
        },
        {
          "output_type": "stream",
          "name": "stderr",
          "text": [
            "/usr/local/lib/python3.10/dist-packages/sklearn/metrics/_classification.py:1531: UndefinedMetricWarning: Precision is ill-defined and being set to 0.0 in labels with no predicted samples. Use `zero_division` parameter to control this behavior.\n",
            "  _warn_prf(average, modifier, f\"{metric.capitalize()} is\", len(result))\n",
            "/usr/local/lib/python3.10/dist-packages/sklearn/metrics/_classification.py:1531: UndefinedMetricWarning: Precision is ill-defined and being set to 0.0 in labels with no predicted samples. Use `zero_division` parameter to control this behavior.\n",
            "  _warn_prf(average, modifier, f\"{metric.capitalize()} is\", len(result))\n",
            "/usr/local/lib/python3.10/dist-packages/sklearn/metrics/_classification.py:1531: UndefinedMetricWarning: Precision is ill-defined and being set to 0.0 in labels with no predicted samples. Use `zero_division` parameter to control this behavior.\n",
            "  _warn_prf(average, modifier, f\"{metric.capitalize()} is\", len(result))\n"
          ]
        }
      ]
    },
    {
      "cell_type": "code",
      "source": [
        "from sklearn.model_selection import cross_val_score\n",
        "\n",
        "# Perform cross-validation\n",
        "cv_scores = cross_val_score(classifier, X, y, cv=5, scoring='accuracy')\n",
        "print(f\"Cross-validation scores: {cv_scores}\")\n",
        "print(f\"Mean CV Accuracy: {cv_scores.mean()}\")\n"
      ],
      "metadata": {
        "colab": {
          "base_uri": "https://localhost:8080/"
        },
        "id": "fwO2cYsHeXlW",
        "outputId": "7371a5bc-e10f-43f3-d88f-afcaf9ae2826"
      },
      "execution_count": 25,
      "outputs": [
        {
          "output_type": "stream",
          "name": "stderr",
          "text": [
            "/usr/local/lib/python3.10/dist-packages/sklearn/model_selection/_split.py:776: UserWarning: The least populated class in y has only 2 members, which is less than n_splits=5.\n",
            "  warnings.warn(\n"
          ]
        },
        {
          "output_type": "stream",
          "name": "stdout",
          "text": [
            "Cross-validation scores: [0.66666667 0.66666667 1.         0.66666667 0.33333333]\n",
            "Mean CV Accuracy: 0.6666666666666666\n"
          ]
        }
      ]
    }
  ]
}